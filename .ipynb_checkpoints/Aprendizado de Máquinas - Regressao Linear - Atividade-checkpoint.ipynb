{
 "cells": [
  {
   "cell_type": "markdown",
   "id": "feac95d5",
   "metadata": {},
   "source": [
    "# Criando um modelo de Regressão Linear\n",
    "- Tenho os dados de preço, desconto e venda e vou fazer uma campanha de natal nas lojas com o preço de 17.50 e desconto de até 40 centavos e preciso saber quanto de estoque eu devo mandar para a loja"
   ]
  },
  {
   "cell_type": "code",
   "execution_count": 1,
   "id": "02c69487",
   "metadata": {},
   "outputs": [],
   "source": [
    "# Importando a base de dados\n",
    "# - Base de dados: \"dadosVenda.xlsx\"\n",
    "\n",
    "import pandas as pd\n",
    "dados = pd.read_excel(\"dadosVenda.xlsx\")"
   ]
  },
  {
   "cell_type": "code",
   "execution_count": 2,
   "id": "e7fbcf2f",
   "metadata": {},
   "outputs": [
    {
     "data": {
      "text/html": [
       "<div>\n",
       "<style scoped>\n",
       "    .dataframe tbody tr th:only-of-type {\n",
       "        vertical-align: middle;\n",
       "    }\n",
       "\n",
       "    .dataframe tbody tr th {\n",
       "        vertical-align: top;\n",
       "    }\n",
       "\n",
       "    .dataframe thead th {\n",
       "        text-align: right;\n",
       "    }\n",
       "</style>\n",
       "<table border=\"1\" class=\"dataframe\">\n",
       "  <thead>\n",
       "    <tr style=\"text-align: right;\">\n",
       "      <th></th>\n",
       "      <th>IDRegistro</th>\n",
       "      <th>PrecoVenda</th>\n",
       "      <th>PrecoOriginal</th>\n",
       "      <th>Desconto</th>\n",
       "      <th>VendaQtd</th>\n",
       "    </tr>\n",
       "  </thead>\n",
       "  <tbody>\n",
       "    <tr>\n",
       "      <th>0</th>\n",
       "      <td>1</td>\n",
       "      <td>21.85</td>\n",
       "      <td>23</td>\n",
       "      <td>1.15</td>\n",
       "      <td>81</td>\n",
       "    </tr>\n",
       "    <tr>\n",
       "      <th>1</th>\n",
       "      <td>2</td>\n",
       "      <td>4.30</td>\n",
       "      <td>5</td>\n",
       "      <td>0.70</td>\n",
       "      <td>3361</td>\n",
       "    </tr>\n",
       "    <tr>\n",
       "      <th>2</th>\n",
       "      <td>3</td>\n",
       "      <td>13.65</td>\n",
       "      <td>15</td>\n",
       "      <td>1.35</td>\n",
       "      <td>1551</td>\n",
       "    </tr>\n",
       "    <tr>\n",
       "      <th>3</th>\n",
       "      <td>4</td>\n",
       "      <td>4.97</td>\n",
       "      <td>7</td>\n",
       "      <td>2.03</td>\n",
       "      <td>3036</td>\n",
       "    </tr>\n",
       "    <tr>\n",
       "      <th>4</th>\n",
       "      <td>5</td>\n",
       "      <td>9.60</td>\n",
       "      <td>10</td>\n",
       "      <td>0.40</td>\n",
       "      <td>2436</td>\n",
       "    </tr>\n",
       "  </tbody>\n",
       "</table>\n",
       "</div>"
      ],
      "text/plain": [
       "   IDRegistro  PrecoVenda  PrecoOriginal  Desconto  VendaQtd\n",
       "0           1       21.85             23      1.15        81\n",
       "1           2        4.30              5      0.70      3361\n",
       "2           3       13.65             15      1.35      1551\n",
       "3           4        4.97              7      2.03      3036\n",
       "4           5        9.60             10      0.40      2436"
      ]
     },
     "execution_count": 2,
     "metadata": {},
     "output_type": "execute_result"
    }
   ],
   "source": [
    "# Visualizando os dados\n",
    "dados.head()"
   ]
  },
  {
   "cell_type": "code",
   "execution_count": 3,
   "id": "a2625f3d",
   "metadata": {},
   "outputs": [
    {
     "name": "stdout",
     "output_type": "stream",
     "text": [
      "<class 'pandas.core.frame.DataFrame'>\n",
      "RangeIndex: 1634 entries, 0 to 1633\n",
      "Data columns (total 5 columns):\n",
      " #   Column         Non-Null Count  Dtype  \n",
      "---  ------         --------------  -----  \n",
      " 0   IDRegistro     1634 non-null   int64  \n",
      " 1   PrecoVenda     1634 non-null   float64\n",
      " 2   PrecoOriginal  1634 non-null   int64  \n",
      " 3   Desconto       1606 non-null   float64\n",
      " 4   VendaQtd       1634 non-null   int64  \n",
      "dtypes: float64(2), int64(3)\n",
      "memory usage: 64.0 KB\n"
     ]
    }
   ],
   "source": [
    "# Verificando as informações da base\n",
    "dados.info()"
   ]
  },
  {
   "cell_type": "code",
   "execution_count": 4,
   "id": "9ed9b9b1",
   "metadata": {},
   "outputs": [
    {
     "data": {
      "text/html": [
       "<div>\n",
       "<style scoped>\n",
       "    .dataframe tbody tr th:only-of-type {\n",
       "        vertical-align: middle;\n",
       "    }\n",
       "\n",
       "    .dataframe tbody tr th {\n",
       "        vertical-align: top;\n",
       "    }\n",
       "\n",
       "    .dataframe thead th {\n",
       "        text-align: right;\n",
       "    }\n",
       "</style>\n",
       "<table border=\"1\" class=\"dataframe\">\n",
       "  <thead>\n",
       "    <tr style=\"text-align: right;\">\n",
       "      <th></th>\n",
       "      <th>IDRegistro</th>\n",
       "      <th>PrecoVenda</th>\n",
       "      <th>PrecoOriginal</th>\n",
       "      <th>Desconto</th>\n",
       "      <th>VendaQtd</th>\n",
       "    </tr>\n",
       "  </thead>\n",
       "  <tbody>\n",
       "    <tr>\n",
       "      <th>count</th>\n",
       "      <td>1634.000000</td>\n",
       "      <td>1634.000000</td>\n",
       "      <td>1634.000000</td>\n",
       "      <td>1606.000000</td>\n",
       "      <td>1634.000000</td>\n",
       "    </tr>\n",
       "    <tr>\n",
       "      <th>mean</th>\n",
       "      <td>817.500000</td>\n",
       "      <td>11.152889</td>\n",
       "      <td>13.913097</td>\n",
       "      <td>2.808331</td>\n",
       "      <td>1793.477356</td>\n",
       "    </tr>\n",
       "    <tr>\n",
       "      <th>std</th>\n",
       "      <td>471.839485</td>\n",
       "      <td>4.675302</td>\n",
       "      <td>5.422824</td>\n",
       "      <td>2.055469</td>\n",
       "      <td>960.099218</td>\n",
       "    </tr>\n",
       "    <tr>\n",
       "      <th>min</th>\n",
       "      <td>1.000000</td>\n",
       "      <td>2.820000</td>\n",
       "      <td>3.000000</td>\n",
       "      <td>0.050000</td>\n",
       "      <td>45.000000</td>\n",
       "    </tr>\n",
       "    <tr>\n",
       "      <th>25%</th>\n",
       "      <td>409.250000</td>\n",
       "      <td>7.200000</td>\n",
       "      <td>9.000000</td>\n",
       "      <td>1.140000</td>\n",
       "      <td>995.000000</td>\n",
       "    </tr>\n",
       "    <tr>\n",
       "      <th>50%</th>\n",
       "      <td>817.500000</td>\n",
       "      <td>10.920000</td>\n",
       "      <td>14.000000</td>\n",
       "      <td>2.250000</td>\n",
       "      <td>1753.000000</td>\n",
       "    </tr>\n",
       "    <tr>\n",
       "      <th>75%</th>\n",
       "      <td>1225.750000</td>\n",
       "      <td>14.520000</td>\n",
       "      <td>19.000000</td>\n",
       "      <td>4.200000</td>\n",
       "      <td>2646.000000</td>\n",
       "    </tr>\n",
       "    <tr>\n",
       "      <th>max</th>\n",
       "      <td>1634.000000</td>\n",
       "      <td>23.000000</td>\n",
       "      <td>23.000000</td>\n",
       "      <td>9.200000</td>\n",
       "      <td>3711.000000</td>\n",
       "    </tr>\n",
       "  </tbody>\n",
       "</table>\n",
       "</div>"
      ],
      "text/plain": [
       "        IDRegistro   PrecoVenda  PrecoOriginal     Desconto     VendaQtd\n",
       "count  1634.000000  1634.000000    1634.000000  1606.000000  1634.000000\n",
       "mean    817.500000    11.152889      13.913097     2.808331  1793.477356\n",
       "std     471.839485     4.675302       5.422824     2.055469   960.099218\n",
       "min       1.000000     2.820000       3.000000     0.050000    45.000000\n",
       "25%     409.250000     7.200000       9.000000     1.140000   995.000000\n",
       "50%     817.500000    10.920000      14.000000     2.250000  1753.000000\n",
       "75%    1225.750000    14.520000      19.000000     4.200000  2646.000000\n",
       "max    1634.000000    23.000000      23.000000     9.200000  3711.000000"
      ]
     },
     "execution_count": 4,
     "metadata": {},
     "output_type": "execute_result"
    }
   ],
   "source": [
    "dados.describe()"
   ]
  },
  {
   "cell_type": "markdown",
   "id": "b7e34994",
   "metadata": {},
   "source": [
    "**Tratando valores vazios**"
   ]
  },
  {
   "cell_type": "code",
   "execution_count": 5,
   "id": "022ecbfe",
   "metadata": {},
   "outputs": [],
   "source": [
    "# Ajustando os dados com valores de desconto vazio\n",
    "\n",
    "dados.loc[dados.Desconto.isnull(),'Desconto'] = 0 "
   ]
  },
  {
   "cell_type": "code",
   "execution_count": 6,
   "id": "d1ec0f05",
   "metadata": {},
   "outputs": [
    {
     "name": "stdout",
     "output_type": "stream",
     "text": [
      "<class 'pandas.core.frame.DataFrame'>\n",
      "RangeIndex: 1634 entries, 0 to 1633\n",
      "Data columns (total 5 columns):\n",
      " #   Column         Non-Null Count  Dtype  \n",
      "---  ------         --------------  -----  \n",
      " 0   IDRegistro     1634 non-null   int64  \n",
      " 1   PrecoVenda     1634 non-null   float64\n",
      " 2   PrecoOriginal  1634 non-null   int64  \n",
      " 3   Desconto       1634 non-null   float64\n",
      " 4   VendaQtd       1634 non-null   int64  \n",
      "dtypes: float64(2), int64(3)\n",
      "memory usage: 64.0 KB\n"
     ]
    }
   ],
   "source": [
    "# Verificando novamente as informações da base\n",
    "dados.info()"
   ]
  },
  {
   "cell_type": "markdown",
   "id": "9fe9f8ff",
   "metadata": {},
   "source": [
    "**Entendendo a base**"
   ]
  },
  {
   "cell_type": "code",
   "execution_count": 7,
   "id": "de021953",
   "metadata": {},
   "outputs": [
    {
     "data": {
      "image/png": "[encoded data removed]",
      "text/plain": [
       "<Figure size 432x288 with 1 Axes>"
      ]
     },
     "metadata": {
      "needs_background": "light"
     },
     "output_type": "display_data"
    }
   ],
   "source": [
    "# Podemos fazer o scatter plot\n",
    "import matplotlib.pyplot as plt\n",
    "\n",
    "\n",
    "fig, ax = plt.subplots()\n",
    "\n",
    "ax.scatter(dados.PrecoVenda, dados.VendaQtd)\n",
    "\n",
    "\n",
    "\n",
    "plt.show()"
   ]
  },
  {
   "cell_type": "markdown",
   "id": "73dc7d16",
   "metadata": {},
   "source": [
    "### Definição do modelo\n",
    "- https://scikit-learn.org/stable/modules/generated/sklearn.linear_model.LinearRegression.html"
   ]
  },
  {
   "cell_type": "code",
   "execution_count": 8,
   "id": "d1af6999",
   "metadata": {},
   "outputs": [],
   "source": [
    "# Importando o LinearRegression\n",
    "\n",
    "from sklearn.linear_model import LinearRegression"
   ]
  },
  {
   "cell_type": "code",
   "execution_count": 9,
   "id": "5d44975f",
   "metadata": {},
   "outputs": [],
   "source": [
    "# Criando os dados\n",
    "\n",
    "x = dados.PrecoVenda\n",
    "y = dados.VendaQtd"
   ]
  },
  {
   "cell_type": "code",
   "execution_count": 10,
   "id": "f0438fda",
   "metadata": {},
   "outputs": [],
   "source": [
    "# Fazendo o fit do modelo\n",
    "\n",
    "reg = LinearRegression().fit(x.values.reshape(-1, 1), y)"
   ]
  },
  {
   "cell_type": "code",
   "execution_count": 11,
   "id": "0791bcea",
   "metadata": {},
   "outputs": [
    {
     "data": {
      "text/plain": [
       "0.8956436940447059"
      ]
     },
     "execution_count": 11,
     "metadata": {},
     "output_type": "execute_result"
    }
   ],
   "source": [
    "reg.score(x.values.reshape(-1, 1), y)"
   ]
  },
  {
   "cell_type": "code",
   "execution_count": 12,
   "id": "ebc0817a",
   "metadata": {},
   "outputs": [],
   "source": [
    "# Podemos definir uma lista de valores para fazermos a previsão\n",
    "valores = {\n",
    "    'valores': [17.50, 17.40, 17.30, 17.20, 17.10]\n",
    "}\n",
    "\n",
    "valores = pd.DataFrame(valores)"
   ]
  },
  {
   "cell_type": "code",
   "execution_count": 13,
   "id": "b92d02f9",
   "metadata": {},
   "outputs": [
    {
     "data": {
      "image/png": "[encoded data removed]",
      "text/plain": [
       "<Figure size 432x288 with 1 Axes>"
      ]
     },
     "metadata": {
      "needs_background": "light"
     },
     "output_type": "display_data"
    }
   ],
   "source": [
    "# Podemos fazer o scatter plot\n",
    "import matplotlib.pyplot as plt\n",
    "import numpy as np\n",
    "\n",
    "# plot\n",
    "fig, ax = plt.subplots()\n",
    "\n",
    "ax.scatter(dados.PrecoVenda, dados.VendaQtd)\n",
    "x_plot = np.arange(2,23)\n",
    "y_plot = reg.coef_[0]*x_plot + reg.intercept_\n",
    "ax.plot(x_plot,y_plot,c='r')\n",
    "\n",
    "plt.show()"
   ]
  },
  {
   "cell_type": "code",
   "execution_count": 14,
   "id": "bbb209dd",
   "metadata": {},
   "outputs": [
    {
     "data": {
      "text/plain": [
       "array([559.94606196, 579.3805924 , 598.81512285, 618.2496533 ,\n",
       "       637.68418374])"
      ]
     },
     "execution_count": 14,
     "metadata": {},
     "output_type": "execute_result"
    }
   ],
   "source": [
    "# Fazendo o predict\n",
    "reg.predict(valores)"
   ]
  },
  {
   "cell_type": "code",
   "execution_count": 15,
   "id": "5ee78f9a",
   "metadata": {},
   "outputs": [
    {
     "data": {
      "text/html": [
       "<div>\n",
       "<style scoped>\n",
       "    .dataframe tbody tr th:only-of-type {\n",
       "        vertical-align: middle;\n",
       "    }\n",
       "\n",
       "    .dataframe tbody tr th {\n",
       "        vertical-align: top;\n",
       "    }\n",
       "\n",
       "    .dataframe thead th {\n",
       "        text-align: right;\n",
       "    }\n",
       "</style>\n",
       "<table border=\"1\" class=\"dataframe\">\n",
       "  <thead>\n",
       "    <tr style=\"text-align: right;\">\n",
       "      <th></th>\n",
       "      <th>IDRegistro</th>\n",
       "      <th>PrecoVenda</th>\n",
       "      <th>PrecoOriginal</th>\n",
       "      <th>Desconto</th>\n",
       "      <th>VendaQtd</th>\n",
       "    </tr>\n",
       "  </thead>\n",
       "  <tbody>\n",
       "    <tr>\n",
       "      <th>397</th>\n",
       "      <td>398</td>\n",
       "      <td>17.1</td>\n",
       "      <td>19</td>\n",
       "      <td>1.9</td>\n",
       "      <td>836</td>\n",
       "    </tr>\n",
       "    <tr>\n",
       "      <th>492</th>\n",
       "      <td>493</td>\n",
       "      <td>17.1</td>\n",
       "      <td>19</td>\n",
       "      <td>1.9</td>\n",
       "      <td>836</td>\n",
       "    </tr>\n",
       "    <tr>\n",
       "      <th>1414</th>\n",
       "      <td>1415</td>\n",
       "      <td>17.1</td>\n",
       "      <td>18</td>\n",
       "      <td>0.9</td>\n",
       "      <td>988</td>\n",
       "    </tr>\n",
       "  </tbody>\n",
       "</table>\n",
       "</div>"
      ],
      "text/plain": [
       "      IDRegistro  PrecoVenda  PrecoOriginal  Desconto  VendaQtd\n",
       "397          398        17.1             19       1.9       836\n",
       "492          493        17.1             19       1.9       836\n",
       "1414        1415        17.1             18       0.9       988"
      ]
     },
     "execution_count": 15,
     "metadata": {},
     "output_type": "execute_result"
    }
   ],
   "source": [
    "# Verificando os dados para esse mesmo preço de venda\n",
    "dados[dados.PrecoVenda == 17.10]"
   ]
  },
  {
   "cell_type": "code",
   "execution_count": 16,
   "id": "c503883d",
   "metadata": {},
   "outputs": [
    {
     "data": {
      "text/html": [
       "<div>\n",
       "<style scoped>\n",
       "    .dataframe tbody tr th:only-of-type {\n",
       "        vertical-align: middle;\n",
       "    }\n",
       "\n",
       "    .dataframe tbody tr th {\n",
       "        vertical-align: top;\n",
       "    }\n",
       "\n",
       "    .dataframe thead th {\n",
       "        text-align: right;\n",
       "    }\n",
       "</style>\n",
       "<table border=\"1\" class=\"dataframe\">\n",
       "  <thead>\n",
       "    <tr style=\"text-align: right;\">\n",
       "      <th></th>\n",
       "      <th>IDRegistro</th>\n",
       "      <th>PrecoVenda</th>\n",
       "      <th>PrecoOriginal</th>\n",
       "      <th>Desconto</th>\n",
       "      <th>VendaQtd</th>\n",
       "    </tr>\n",
       "  </thead>\n",
       "  <tbody>\n",
       "    <tr>\n",
       "      <th>108</th>\n",
       "      <td>109</td>\n",
       "      <td>16.83</td>\n",
       "      <td>17</td>\n",
       "      <td>0.17</td>\n",
       "      <td>1148</td>\n",
       "    </tr>\n",
       "    <tr>\n",
       "      <th>284</th>\n",
       "      <td>285</td>\n",
       "      <td>16.66</td>\n",
       "      <td>17</td>\n",
       "      <td>0.34</td>\n",
       "      <td>1154</td>\n",
       "    </tr>\n",
       "    <tr>\n",
       "      <th>452</th>\n",
       "      <td>453</td>\n",
       "      <td>18.00</td>\n",
       "      <td>18</td>\n",
       "      <td>0.00</td>\n",
       "      <td>960</td>\n",
       "    </tr>\n",
       "    <tr>\n",
       "      <th>989</th>\n",
       "      <td>990</td>\n",
       "      <td>16.83</td>\n",
       "      <td>17</td>\n",
       "      <td>0.17</td>\n",
       "      <td>1148</td>\n",
       "    </tr>\n",
       "    <tr>\n",
       "      <th>998</th>\n",
       "      <td>999</td>\n",
       "      <td>16.83</td>\n",
       "      <td>17</td>\n",
       "      <td>0.17</td>\n",
       "      <td>1148</td>\n",
       "    </tr>\n",
       "    <tr>\n",
       "      <th>1115</th>\n",
       "      <td>1116</td>\n",
       "      <td>17.82</td>\n",
       "      <td>18</td>\n",
       "      <td>0.18</td>\n",
       "      <td>966</td>\n",
       "    </tr>\n",
       "    <tr>\n",
       "      <th>1220</th>\n",
       "      <td>1221</td>\n",
       "      <td>17.64</td>\n",
       "      <td>18</td>\n",
       "      <td>0.36</td>\n",
       "      <td>971</td>\n",
       "    </tr>\n",
       "    <tr>\n",
       "      <th>1539</th>\n",
       "      <td>1540</td>\n",
       "      <td>16.66</td>\n",
       "      <td>17</td>\n",
       "      <td>0.34</td>\n",
       "      <td>1154</td>\n",
       "    </tr>\n",
       "    <tr>\n",
       "      <th>1548</th>\n",
       "      <td>1549</td>\n",
       "      <td>16.66</td>\n",
       "      <td>17</td>\n",
       "      <td>0.34</td>\n",
       "      <td>1154</td>\n",
       "    </tr>\n",
       "    <tr>\n",
       "      <th>1576</th>\n",
       "      <td>1577</td>\n",
       "      <td>16.83</td>\n",
       "      <td>17</td>\n",
       "      <td>0.17</td>\n",
       "      <td>1148</td>\n",
       "    </tr>\n",
       "  </tbody>\n",
       "</table>\n",
       "</div>"
      ],
      "text/plain": [
       "      IDRegistro  PrecoVenda  PrecoOriginal  Desconto  VendaQtd\n",
       "108          109       16.83             17      0.17      1148\n",
       "284          285       16.66             17      0.34      1154\n",
       "452          453       18.00             18      0.00       960\n",
       "989          990       16.83             17      0.17      1148\n",
       "998          999       16.83             17      0.17      1148\n",
       "1115        1116       17.82             18      0.18       966\n",
       "1220        1221       17.64             18      0.36       971\n",
       "1539        1540       16.66             17      0.34      1154\n",
       "1548        1549       16.66             17      0.34      1154\n",
       "1576        1577       16.83             17      0.17      1148"
      ]
     },
     "execution_count": 16,
     "metadata": {},
     "output_type": "execute_result"
    }
   ],
   "source": [
    "# Verificando os dados para um range de preços e descontos\n",
    "dados[(dados.PrecoOriginal >= 17) & (dados.PrecoOriginal <= 18) & (dados.Desconto >= 0) & (dados.Desconto <= 0.4)]"
   ]
  },
  {
   "cell_type": "markdown",
   "id": "f9cd3d52",
   "metadata": {},
   "source": [
    "### Escolhendo novas entradas pro modelo\n",
    "- Podemos, ao invés de usar PrecoVenda, usar PrecoOriginal e Desconto"
   ]
  },
  {
   "cell_type": "code",
   "execution_count": 17,
   "id": "d5ca8b70",
   "metadata": {},
   "outputs": [],
   "source": [
    "\n",
    "from sklearn.linear_model import LinearRegression"
   ]
  },
  {
   "cell_type": "code",
   "execution_count": 18,
   "id": "e3cfa7e7",
   "metadata": {},
   "outputs": [],
   "source": [
    "#dados\n",
    "\n",
    "x2 = dados[['PrecoOriginal','Desconto']]\n",
    "y2 = dados.VendaQtd"
   ]
  },
  {
   "cell_type": "code",
   "execution_count": 19,
   "id": "0f0d5448",
   "metadata": {},
   "outputs": [],
   "source": [
    "# Fazendo o fit\n",
    "reg2 = LinearRegression().fit(x2, y2)"
   ]
  },
  {
   "cell_type": "code",
   "execution_count": 20,
   "id": "5a8de43b",
   "metadata": {},
   "outputs": [
    {
     "data": {
      "text/plain": [
       "0.9999999083594651"
      ]
     },
     "execution_count": 20,
     "metadata": {},
     "output_type": "execute_result"
    }
   ],
   "source": [
    "reg2.score(x2,y2)\n"
   ]
  },
  {
   "cell_type": "code",
   "execution_count": 21,
   "id": "c1bdf732",
   "metadata": {},
   "outputs": [
    {
     "data": {
      "text/plain": [
       "0.8956436940447059"
      ]
     },
     "execution_count": 21,
     "metadata": {},
     "output_type": "execute_result"
    }
   ],
   "source": [
    "reg.score(x.values.reshape(-1, 1),y)"
   ]
  },
  {
   "cell_type": "code",
   "execution_count": 22,
   "id": "6a5201e8",
   "metadata": {},
   "outputs": [
    {
     "data": {
      "text/plain": [
       "array([-182.99974391,   31.00137454])"
      ]
     },
     "execution_count": 22,
     "metadata": {},
     "output_type": "execute_result"
    }
   ],
   "source": [
    "#Coeficiente angular \n",
    "reg2.coef_"
   ]
  },
  {
   "cell_type": "code",
   "execution_count": 23,
   "id": "709504fe",
   "metadata": {},
   "outputs": [
    {
     "data": {
      "text/plain": [
       "4254.00024394365"
      ]
     },
     "execution_count": 23,
     "metadata": {},
     "output_type": "execute_result"
    }
   ],
   "source": [
    "#Coeficiente linear\n",
    "\n",
    "reg2.intercept_"
   ]
  },
  {
   "cell_type": "code",
   "execution_count": 24,
   "id": "899253ca",
   "metadata": {},
   "outputs": [],
   "source": [
    "valores = {\n",
    "    'valores': [17.50, 17.40, 17.30, 17.20, 17.10],\n",
    "    'precos': [17.50,17.50,17.50,17.50,17.50],\n",
    "    'descontos': [0,0.1,0.2,0.3,0.4]\n",
    "}\n",
    "\n",
    "valores = pd.DataFrame(valores)"
   ]
  },
  {
   "cell_type": "code",
   "execution_count": 25,
   "id": "4941546b",
   "metadata": {},
   "outputs": [
    {
     "data": {
      "text/plain": [
       "array([1051.50472554, 1054.604863  , 1057.70500045, 1060.8051379 ,\n",
       "       1063.90527536])"
      ]
     },
     "execution_count": 25,
     "metadata": {},
     "output_type": "execute_result"
    }
   ],
   "source": [
    "#fazendo a predição \n",
    "\n",
    "reg2.predict(valores[['precos', 'descontos']])"
   ]
  },
  {
   "cell_type": "code",
   "execution_count": 26,
   "id": "c8ea01a2",
   "metadata": {},
   "outputs": [
    {
     "data": {
      "text/html": [
       "<div>\n",
       "<style scoped>\n",
       "    .dataframe tbody tr th:only-of-type {\n",
       "        vertical-align: middle;\n",
       "    }\n",
       "\n",
       "    .dataframe tbody tr th {\n",
       "        vertical-align: top;\n",
       "    }\n",
       "\n",
       "    .dataframe thead th {\n",
       "        text-align: right;\n",
       "    }\n",
       "</style>\n",
       "<table border=\"1\" class=\"dataframe\">\n",
       "  <thead>\n",
       "    <tr style=\"text-align: right;\">\n",
       "      <th></th>\n",
       "      <th>IDRegistro</th>\n",
       "      <th>PrecoVenda</th>\n",
       "      <th>PrecoOriginal</th>\n",
       "      <th>Desconto</th>\n",
       "      <th>VendaQtd</th>\n",
       "    </tr>\n",
       "  </thead>\n",
       "  <tbody>\n",
       "    <tr>\n",
       "      <th>108</th>\n",
       "      <td>109</td>\n",
       "      <td>16.83</td>\n",
       "      <td>17</td>\n",
       "      <td>0.17</td>\n",
       "      <td>1148</td>\n",
       "    </tr>\n",
       "    <tr>\n",
       "      <th>284</th>\n",
       "      <td>285</td>\n",
       "      <td>16.66</td>\n",
       "      <td>17</td>\n",
       "      <td>0.34</td>\n",
       "      <td>1154</td>\n",
       "    </tr>\n",
       "    <tr>\n",
       "      <th>452</th>\n",
       "      <td>453</td>\n",
       "      <td>18.00</td>\n",
       "      <td>18</td>\n",
       "      <td>0.00</td>\n",
       "      <td>960</td>\n",
       "    </tr>\n",
       "    <tr>\n",
       "      <th>989</th>\n",
       "      <td>990</td>\n",
       "      <td>16.83</td>\n",
       "      <td>17</td>\n",
       "      <td>0.17</td>\n",
       "      <td>1148</td>\n",
       "    </tr>\n",
       "    <tr>\n",
       "      <th>998</th>\n",
       "      <td>999</td>\n",
       "      <td>16.83</td>\n",
       "      <td>17</td>\n",
       "      <td>0.17</td>\n",
       "      <td>1148</td>\n",
       "    </tr>\n",
       "    <tr>\n",
       "      <th>1115</th>\n",
       "      <td>1116</td>\n",
       "      <td>17.82</td>\n",
       "      <td>18</td>\n",
       "      <td>0.18</td>\n",
       "      <td>966</td>\n",
       "    </tr>\n",
       "    <tr>\n",
       "      <th>1220</th>\n",
       "      <td>1221</td>\n",
       "      <td>17.64</td>\n",
       "      <td>18</td>\n",
       "      <td>0.36</td>\n",
       "      <td>971</td>\n",
       "    </tr>\n",
       "    <tr>\n",
       "      <th>1539</th>\n",
       "      <td>1540</td>\n",
       "      <td>16.66</td>\n",
       "      <td>17</td>\n",
       "      <td>0.34</td>\n",
       "      <td>1154</td>\n",
       "    </tr>\n",
       "    <tr>\n",
       "      <th>1548</th>\n",
       "      <td>1549</td>\n",
       "      <td>16.66</td>\n",
       "      <td>17</td>\n",
       "      <td>0.34</td>\n",
       "      <td>1154</td>\n",
       "    </tr>\n",
       "    <tr>\n",
       "      <th>1576</th>\n",
       "      <td>1577</td>\n",
       "      <td>16.83</td>\n",
       "      <td>17</td>\n",
       "      <td>0.17</td>\n",
       "      <td>1148</td>\n",
       "    </tr>\n",
       "  </tbody>\n",
       "</table>\n",
       "</div>"
      ],
      "text/plain": [
       "      IDRegistro  PrecoVenda  PrecoOriginal  Desconto  VendaQtd\n",
       "108          109       16.83             17      0.17      1148\n",
       "284          285       16.66             17      0.34      1154\n",
       "452          453       18.00             18      0.00       960\n",
       "989          990       16.83             17      0.17      1148\n",
       "998          999       16.83             17      0.17      1148\n",
       "1115        1116       17.82             18      0.18       966\n",
       "1220        1221       17.64             18      0.36       971\n",
       "1539        1540       16.66             17      0.34      1154\n",
       "1548        1549       16.66             17      0.34      1154\n",
       "1576        1577       16.83             17      0.17      1148"
      ]
     },
     "execution_count": 26,
     "metadata": {},
     "output_type": "execute_result"
    }
   ],
   "source": [
    "# Verificando novamente os dados para um range de preços e descontos\n",
    "dados[(dados.PrecoOriginal >= 17) & (dados.PrecoOriginal <= 18) & (dados.Desconto >= 0) & (dados.Desconto <= 0.4)]"
   ]
  },
  {
   "cell_type": "markdown",
   "id": "4311f7c8",
   "metadata": {},
   "source": [
    "### Analisando erros\n",
    "- https://scikit-learn.org/stable/modules/generated/sklearn.metrics.mean_absolute_error.html\n",
    "- https://scikit-learn.org/stable/modules/generated/sklearn.metrics.mean_absolute_percentage_error.html"
   ]
  },
  {
   "cell_type": "markdown",
   "id": "0a3c5661",
   "metadata": {},
   "source": [
    "**Fazendo o predict apenas com o preço de venda**"
   ]
  },
  {
   "cell_type": "code",
   "execution_count": 27,
   "id": "58f7cf4f",
   "metadata": {},
   "outputs": [],
   "source": [
    "dados['y_model1'] = reg.predict(dados.PrecoVenda.values.reshape(-1,1))\n",
    "dados['y_model2'] = reg2.predict(dados[['PrecoOriginal', 'Desconto']])"
   ]
  },
  {
   "cell_type": "code",
   "execution_count": 28,
   "id": "b22891b7",
   "metadata": {},
   "outputs": [
    {
     "data": {
      "text/html": [
       "<div>\n",
       "<style scoped>\n",
       "    .dataframe tbody tr th:only-of-type {\n",
       "        vertical-align: middle;\n",
       "    }\n",
       "\n",
       "    .dataframe tbody tr th {\n",
       "        vertical-align: top;\n",
       "    }\n",
       "\n",
       "    .dataframe thead th {\n",
       "        text-align: right;\n",
       "    }\n",
       "</style>\n",
       "<table border=\"1\" class=\"dataframe\">\n",
       "  <thead>\n",
       "    <tr style=\"text-align: right;\">\n",
       "      <th></th>\n",
       "      <th>IDRegistro</th>\n",
       "      <th>PrecoVenda</th>\n",
       "      <th>PrecoOriginal</th>\n",
       "      <th>Desconto</th>\n",
       "      <th>VendaQtd</th>\n",
       "      <th>y_model1</th>\n",
       "      <th>y_model2</th>\n",
       "    </tr>\n",
       "  </thead>\n",
       "  <tbody>\n",
       "    <tr>\n",
       "      <th>0</th>\n",
       "      <td>1</td>\n",
       "      <td>21.85</td>\n",
       "      <td>23</td>\n",
       "      <td>1.15</td>\n",
       "      <td>81</td>\n",
       "      <td>-285.456012</td>\n",
       "      <td>80.657715</td>\n",
       "    </tr>\n",
       "    <tr>\n",
       "      <th>1</th>\n",
       "      <td>2</td>\n",
       "      <td>4.30</td>\n",
       "      <td>5</td>\n",
       "      <td>0.70</td>\n",
       "      <td>3361</td>\n",
       "      <td>3125.304081</td>\n",
       "      <td>3360.702487</td>\n",
       "    </tr>\n",
       "    <tr>\n",
       "      <th>2</th>\n",
       "      <td>3</td>\n",
       "      <td>13.65</td>\n",
       "      <td>15</td>\n",
       "      <td>1.35</td>\n",
       "      <td>1551</td>\n",
       "      <td>1308.175484</td>\n",
       "      <td>1550.855941</td>\n",
       "    </tr>\n",
       "    <tr>\n",
       "      <th>3</th>\n",
       "      <td>4</td>\n",
       "      <td>4.97</td>\n",
       "      <td>7</td>\n",
       "      <td>2.03</td>\n",
       "      <td>3036</td>\n",
       "      <td>2995.092727</td>\n",
       "      <td>3035.934827</td>\n",
       "    </tr>\n",
       "    <tr>\n",
       "      <th>4</th>\n",
       "      <td>5</td>\n",
       "      <td>9.60</td>\n",
       "      <td>10</td>\n",
       "      <td>0.40</td>\n",
       "      <td>2436</td>\n",
       "      <td>2095.273967</td>\n",
       "      <td>2436.403355</td>\n",
       "    </tr>\n",
       "  </tbody>\n",
       "</table>\n",
       "</div>"
      ],
      "text/plain": [
       "   IDRegistro  PrecoVenda  PrecoOriginal  Desconto  VendaQtd     y_model1  \\\n",
       "0           1       21.85             23      1.15        81  -285.456012   \n",
       "1           2        4.30              5      0.70      3361  3125.304081   \n",
       "2           3       13.65             15      1.35      1551  1308.175484   \n",
       "3           4        4.97              7      2.03      3036  2995.092727   \n",
       "4           5        9.60             10      0.40      2436  2095.273967   \n",
       "\n",
       "      y_model2  \n",
       "0    80.657715  \n",
       "1  3360.702487  \n",
       "2  1550.855941  \n",
       "3  3035.934827  \n",
       "4  2436.403355  "
      ]
     },
     "execution_count": 28,
     "metadata": {},
     "output_type": "execute_result"
    }
   ],
   "source": [
    "dados.head()"
   ]
  },
  {
   "cell_type": "code",
   "execution_count": 29,
   "id": "434c3050",
   "metadata": {},
   "outputs": [],
   "source": [
    "from sklearn.metrics import mean_absolute_error"
   ]
  },
  {
   "cell_type": "code",
   "execution_count": 30,
   "id": "c35183c4",
   "metadata": {},
   "outputs": [
    {
     "data": {
      "text/plain": [
       "254.3109951899015"
      ]
     },
     "execution_count": 30,
     "metadata": {},
     "output_type": "execute_result"
    }
   ],
   "source": [
    "# modelo 1 \n",
    "\n",
    "mean_absolute_error(dados.VendaQtd, dados.y_model1)"
   ]
  },
  {
   "cell_type": "code",
   "execution_count": 31,
   "id": "074ceb53",
   "metadata": {},
   "outputs": [
    {
     "data": {
      "text/plain": [
       "0.24931777290883678"
      ]
     },
     "execution_count": 31,
     "metadata": {},
     "output_type": "execute_result"
    }
   ],
   "source": [
    "# modelo 2 \n",
    "mean_absolute_error(dados.VendaQtd, dados.y_model2)"
   ]
  },
  {
   "cell_type": "code",
   "execution_count": 32,
   "id": "4cc0e686",
   "metadata": {},
   "outputs": [],
   "source": [
    "from sklearn.metrics import mean_absolute_percentage_error"
   ]
  },
  {
   "cell_type": "code",
   "execution_count": 33,
   "id": "77e64b39",
   "metadata": {},
   "outputs": [
    {
     "data": {
      "text/plain": [
       "33.713612693046244"
      ]
     },
     "execution_count": 33,
     "metadata": {},
     "output_type": "execute_result"
    }
   ],
   "source": [
    "# modelo 1 \n",
    "mean_absolute_percentage_error(dados.VendaQtd, dados.y_model1)*100"
   ]
  },
  {
   "cell_type": "code",
   "execution_count": 34,
   "id": "49373c58",
   "metadata": {},
   "outputs": [
    {
     "data": {
      "text/plain": [
       "0.02730669726563896"
      ]
     },
     "execution_count": 34,
     "metadata": {},
     "output_type": "execute_result"
    }
   ],
   "source": [
    "# modelo 2\n",
    "mean_absolute_percentage_error(dados.VendaQtd, dados.y_model2)*100"
   ]
  }
 ],
 "metadata": {
  "kernelspec": {
   "display_name": "Python 3 (ipykernel)",
   "language": "python",
   "name": "python3"
  },
  "language_info": {
   "codemirror_mode": {
    "name": "ipython",
    "version": 3
   },
   "file_extension": ".py",
   "mimetype": "text/x-python",
   "name": "python",
   "nbconvert_exporter": "python",
   "pygments_lexer": "ipython3",
   "version": "3.9.7"
  }
 },
 "nbformat": 4,
 "nbformat_minor": 5
}
